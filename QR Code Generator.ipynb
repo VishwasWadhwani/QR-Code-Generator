{
 "cells": [
  {
   "cell_type": "code",
   "execution_count": 4,
   "id": "9017f821",
   "metadata": {},
   "outputs": [],
   "source": [
    "import qrcode\n",
    "from tkinter import *\n",
    "from tkinter import messagebox"
   ]
  },
  {
   "cell_type": "code",
   "execution_count": 5,
   "id": "b2be9a8c",
   "metadata": {},
   "outputs": [],
   "source": [
    "#Creating the window\n",
    "wn = Tk()\n",
    "wn.title('DataFlair QR Code Generator')\n",
    "wn.geometry('700x700')\n",
    "wn.config(bg='SteelBlue3')"
   ]
  },
  {
   "cell_type": "code",
   "execution_count": 8,
   "id": "02b828d7",
   "metadata": {},
   "outputs": [],
   "source": [
    "#Label for the window\n",
    "headingFrame = Frame(wn,bg=\"azure\",bd=5)\n",
    "headingFrame.place(relx=0.15,rely=0.05,relwidth=0.7,relheight=0.1)\n",
    "headingLabel = Label(headingFrame, text=\"Generate QR Code with DataFlair\", bg='azure', font=('Times',20,'bold'))\n",
    "headingLabel.place(relx=0,rely=0, relwidth=1, relheight=1)\n",
    "\n",
    "#Taking the input of the text or URL to get QR code\n",
    "Frame1 = Frame(wn,bg=\"SteelBlue3\")\n",
    "Frame1.place(relx=0.1,rely=0.15,relwidth=0.7,relheight=0.3)\n",
    "\n",
    "label1 = Label(Frame1,text=\"Enter the text/URL: \",bg=\"SteelBlue3\",fg='azure',font=('Courier',13,'bold'))\n",
    "label1.place(relx=0.05,rely=0.2, relheight=0.08)\n",
    "\n",
    "text = Entry(Frame1,font=('Century 12'))\n",
    "text.place(relx=0.05,rely=0.4, relwidth=1, relheight=0.2)\n",
    "\n",
    "#Getting input of the location to save QR Code\n",
    "Frame2 = Frame(wn,bg=\"SteelBlue3\")\n",
    "Frame2.place(relx=0.1,rely=0.35,relwidth=0.7,relheight=0.3)\n",
    "\n",
    "label2 = Label(Frame2,text=\"Enter the location to save the QR Code: \",bg=\"SteelBlue3\",fg='azure',font=('Courier',13,'bold'))\n",
    "label2.place(relx=0.05,rely=0.2, relheight=0.08)\n",
    "\n",
    "loc = Entry(Frame2,font=('Century 12'))\n",
    "loc.place(relx=0.05,rely=0.4, relwidth=1, relheight=0.2)\n",
    "\n",
    "#Getting input of the QR Code image name\n",
    "Frame3 = Frame(wn,bg=\"SteelBlue3\")\n",
    "Frame3.place(relx=0.1,rely=0.55,relwidth=0.7,relheight=0.3)\n",
    "\n",
    "label3 = Label(Frame3,text=\"Enter the name of the QR Code: \",bg=\"SteelBlue3\",fg='azure',font=('Courier',13,'bold'))\n",
    "label3.place(relx=0.05,rely=0.2, relheight=0.08)\n",
    "\n",
    "name = Entry(Frame3,font=('Century 12'))\n",
    "name.place(relx=0.05,rely=0.4, relwidth=1, relheight=0.2)\n",
    "\n",
    "#Getting the input of the size of the QR Code\n",
    "Frame4 = Frame(wn,bg=\"SteelBlue3\")\n",
    "Frame4.place(relx=0.1,rely=0.75,relwidth=0.7,relheight=0.2)\n",
    "\n",
    "label4 = Label(Frame4,text=\"Enter the size from 1 to 40 with 1 being 21x21: \",bg=\"SteelBlue3\",fg='azure',font=('Courier',13,'bold'))\n",
    "label4.place(relx=0.05,rely=0.2, relheight=0.08)\n",
    "\n",
    "size = Entry(Frame4,font=('Century 12'))\n",
    "size.place(relx=0.05,rely=0.4, relwidth=0.5, relheight=0.2)\n",
    "\n",
    "#Button to generate and save the QR Code\n",
    "button = Button(wn, text='Generate Code',font=('Courier',15,'normal'),command=generateCode)\n",
    "button.place(relx=0.35,rely=0.9, relwidth=0.25, relheight=0.05)\n",
    "\n",
    "#Runs the window till it is closed manually\n",
    "wn.mainloop()"
   ]
  },
  {
   "cell_type": "code",
   "execution_count": 7,
   "id": "76ab371b",
   "metadata": {},
   "outputs": [],
   "source": [
    "#Function to generate the QR code and save it\n",
    "def generateCode():\n",
    "  #Creating a QRCode object of the size specified by the user\n",
    "  qr = qrcode.QRCode(version = size.get(),\n",
    "            box_size = 10,\n",
    "            border = 5)\n",
    "  qr.add_data(text.get()) #Adding the data to be encoded to the QRCode object\n",
    "  qr.make(fit = True) #Making the entire QR Code space utilized\n",
    "  img = qr.make_image() #Generating the QR Code\n",
    "  fileDirec=loc.get()+'\\\\'+name.get() #Getting the directory where the file has to be save\n",
    "  img.save(f'{fileDirec}.png') #Saving the QR Code\n",
    "  #Showing the pop up message on saving the file\n",
    "  messagebox.showinfo(\"DataFlair QR Code Generator\",\"QR Code is saved successfully!\")"
   ]
  },
  {
   "cell_type": "code",
   "execution_count": null,
   "id": "de22a827",
   "metadata": {},
   "outputs": [],
   "source": []
  },
  {
   "cell_type": "code",
   "execution_count": null,
   "id": "2e777a7a",
   "metadata": {},
   "outputs": [],
   "source": []
  },
  {
   "cell_type": "code",
   "execution_count": null,
   "id": "f667d7e3",
   "metadata": {},
   "outputs": [],
   "source": []
  },
  {
   "cell_type": "code",
   "execution_count": null,
   "id": "97e0dd1d",
   "metadata": {},
   "outputs": [],
   "source": []
  },
  {
   "cell_type": "code",
   "execution_count": null,
   "id": "629d7ca3",
   "metadata": {},
   "outputs": [],
   "source": []
  }
 ],
 "metadata": {
  "kernelspec": {
   "display_name": "Python 3 (ipykernel)",
   "language": "python",
   "name": "python3"
  },
  "language_info": {
   "codemirror_mode": {
    "name": "ipython",
    "version": 3
   },
   "file_extension": ".py",
   "mimetype": "text/x-python",
   "name": "python",
   "nbconvert_exporter": "python",
   "pygments_lexer": "ipython3",
   "version": "3.11.5"
  }
 },
 "nbformat": 4,
 "nbformat_minor": 5
}
